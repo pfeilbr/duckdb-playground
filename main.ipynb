{
 "cells": [
  {
   "cell_type": "code",
   "execution_count": null,
   "id": "058fe72d-e54c-435a-bb32-5195300f3e11",
   "metadata": {},
   "outputs": [],
   "source": [
    "import duckdb\n",
    "duckdb.sql('SELECT 42').show()"
   ]
  },
  {
   "cell_type": "code",
   "execution_count": null,
   "id": "edf93f1f",
   "metadata": {},
   "outputs": [],
   "source": [
    "r1 = duckdb.sql('SELECT 42 AS i')\n",
    "duckdb.sql('SELECT i * 2 AS k FROM r1').show()"
   ]
  },
  {
   "cell_type": "code",
   "execution_count": null,
   "id": "16928388",
   "metadata": {},
   "outputs": [],
   "source": [
    "duckdb.read_csv('example.csv')"
   ]
  },
  {
   "cell_type": "code",
   "execution_count": null,
   "id": "3b6231b1",
   "metadata": {},
   "outputs": [],
   "source": [
    "duckdb.sql('SELECT * FROM \"example.csv\"')"
   ]
  },
  {
   "cell_type": "code",
   "execution_count": null,
   "id": "b908481b",
   "metadata": {},
   "outputs": [],
   "source": [
    "duckdb.sql('select * from \"example_n.ndjson\"')"
   ]
  },
  {
   "cell_type": "code",
   "execution_count": null,
   "id": "4956d9f6",
   "metadata": {},
   "outputs": [],
   "source": [
    "import pandas as pd\n",
    "pandas_df = pd.DataFrame({'a': [42]})\n",
    "duckdb.sql('SELECT * FROM pandas_df')"
   ]
  },
  {
   "cell_type": "code",
   "execution_count": null,
   "id": "7b8069fa",
   "metadata": {},
   "outputs": [],
   "source": [
    "duckdb.sql('SELECT 42').fetchall()"
   ]
  },
  {
   "cell_type": "code",
   "execution_count": null,
   "id": "acce3fbe",
   "metadata": {},
   "outputs": [],
   "source": [
    "duckdb.sql('SELECT 42').write_parquet('out.parquet')\n",
    "duckdb.sql('SELECT 42').write_csv('out.csv')"
   ]
  },
  {
   "cell_type": "code",
   "execution_count": null,
   "id": "69f9fad6",
   "metadata": {},
   "outputs": [],
   "source": [
    "# create a connection to a file called 'file.db'\n",
    "con = duckdb.connect('file.db')\n",
    "# create a table and load data into it\n",
    "con.sql('CREATE TABLE test(i INTEGER)')\n",
    "con.sql('INSERT INTO test VALUES (42)')\n",
    "# query the table\n",
    "con.table('test').show()\n",
    "# explicitly close the connection\n",
    "con.close()\n",
    "# Note: connections also closed implicitly when they go out of scope"
   ]
  },
  {
   "cell_type": "code",
   "execution_count": null,
   "id": "0068c13f",
   "metadata": {},
   "outputs": [],
   "source": [
    "duckdb.sql('DESCRIBE SELECT * FROM \"example.csv\"')"
   ]
  }
 ],
 "metadata": {
  "kernelspec": {
   "display_name": "Python 3 (ipykernel)",
   "language": "python",
   "name": "python3"
  },
  "language_info": {
   "codemirror_mode": {
    "name": "ipython",
    "version": 3
   },
   "file_extension": ".py",
   "mimetype": "text/x-python",
   "name": "python",
   "nbconvert_exporter": "python",
   "pygments_lexer": "ipython3",
   "version": "3.11.1"
  }
 },
 "nbformat": 4,
 "nbformat_minor": 5
}
